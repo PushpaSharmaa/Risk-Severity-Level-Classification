{
 "cells": [
  {
   "cell_type": "code",
   "execution_count": 27,
   "id": "46fd5d3f-1ae0-45e5-a950-67a5b3f6d93e",
   "metadata": {},
   "outputs": [],
   "source": [
    "# import required libraries\n",
    "import pandas as pd\n",
    "import numpy as np\n",
    "import matplotlib.pyplot as plt\n",
    "from sklearn.model_selection import GridSearchCV, train_test_split\n",
    "from sklearn.feature_extraction.text import TfidfVectorizer\n",
    "from sklearn.naive_bayes import MultinomialNB\n",
    "from sklearn.svm import SVC\n",
    "from sklearn.linear_model import LogisticRegression\n",
    "from sklearn.ensemble import RandomForestClassifier\n",
    "from sklearn.ensemble import GradientBoostingClassifier\n",
    "from sklearn.metrics import classification_report, confusion_matrix, accuracy_score"
   ]
  },
  {
   "cell_type": "code",
   "execution_count": 28,
   "id": "07c063c8-94ab-4137-8f65-44c89ac777dc",
   "metadata": {},
   "outputs": [],
   "source": [
    "# Load dataset\n",
    "df1 = pd.read_csv(\"data/2022-06-08-enriched.csv\")\n",
    "df2 = pd.read_csv(\"data/2022-06-09-enriched.csv\")\n",
    "df3 = pd.read_csv(\"data/2022-06-27-enriched.csv\")\n",
    "df4 = pd.read_csv(\"data/2022-07-04-enriched.csv\")\n",
    "df5 = pd.read_csv(\"data/2022-12-09-enriched.csv\")"
   ]
  },
  {
   "cell_type": "code",
   "execution_count": 29,
   "id": "3cff1a4e-12aa-471c-ab3a-cd30d30d8b7e",
   "metadata": {},
   "outputs": [],
   "source": [
    "# Combining all datasets\n",
    "combined_df = pd.concat([df1, df2, df3, df4, df5], ignore_index=True)"
   ]
  },
  {
   "cell_type": "code",
   "execution_count": 30,
   "id": "1227dc27-638f-4042-86b9-676d01395801",
   "metadata": {},
   "outputs": [
    {
     "data": {
      "text/html": [
       "<div>\n",
       "<style scoped>\n",
       "    .dataframe tbody tr th:only-of-type {\n",
       "        vertical-align: middle;\n",
       "    }\n",
       "\n",
       "    .dataframe tbody tr th {\n",
       "        vertical-align: top;\n",
       "    }\n",
       "\n",
       "    .dataframe thead th {\n",
       "        text-align: right;\n",
       "    }\n",
       "</style>\n",
       "<table border=\"1\" class=\"dataframe\">\n",
       "  <thead>\n",
       "    <tr style=\"text-align: right;\">\n",
       "      <th></th>\n",
       "      <th>cve_id</th>\n",
       "      <th>vendor_project</th>\n",
       "      <th>product</th>\n",
       "      <th>vulnerability_name</th>\n",
       "      <th>date_added</th>\n",
       "      <th>short_description</th>\n",
       "      <th>required_action</th>\n",
       "      <th>due_date</th>\n",
       "      <th>notes</th>\n",
       "      <th>grp</th>\n",
       "      <th>pub_date</th>\n",
       "      <th>cvss</th>\n",
       "      <th>cwe</th>\n",
       "      <th>vector</th>\n",
       "      <th>complexity</th>\n",
       "      <th>severity</th>\n",
       "    </tr>\n",
       "  </thead>\n",
       "  <tbody>\n",
       "    <tr>\n",
       "      <th>0</th>\n",
       "      <td>CVE-2021-27104</td>\n",
       "      <td>accellion</td>\n",
       "      <td>FTA</td>\n",
       "      <td>Accellion FTA OS Command Injection Vulnerability</td>\n",
       "      <td>2021-11-03</td>\n",
       "      <td>Accellion FTA 9_12_370 and earlier is affected...</td>\n",
       "      <td>Apply updates per vendor instructions.</td>\n",
       "      <td>2021-11-17</td>\n",
       "      <td>NaN</td>\n",
       "      <td>1</td>\n",
       "      <td>2021-02-16</td>\n",
       "      <td>9.8</td>\n",
       "      <td>CWE-78</td>\n",
       "      <td>NETWORK</td>\n",
       "      <td>LOW</td>\n",
       "      <td>CRITICAL</td>\n",
       "    </tr>\n",
       "    <tr>\n",
       "      <th>1</th>\n",
       "      <td>CVE-2021-27102</td>\n",
       "      <td>accellion</td>\n",
       "      <td>FTA</td>\n",
       "      <td>Accellion FTA OS Command Injection Vulnerability</td>\n",
       "      <td>2021-11-03</td>\n",
       "      <td>Accellion FTA 9_12_411 and earlier is affected...</td>\n",
       "      <td>Apply updates per vendor instructions.</td>\n",
       "      <td>2021-11-17</td>\n",
       "      <td>NaN</td>\n",
       "      <td>1</td>\n",
       "      <td>2021-02-16</td>\n",
       "      <td>7.8</td>\n",
       "      <td>CWE-78</td>\n",
       "      <td>LOCAL</td>\n",
       "      <td>LOW</td>\n",
       "      <td>HIGH</td>\n",
       "    </tr>\n",
       "    <tr>\n",
       "      <th>2</th>\n",
       "      <td>CVE-2021-27101</td>\n",
       "      <td>accellion</td>\n",
       "      <td>FTA</td>\n",
       "      <td>Accellion FTA SQL Injection Vulnerability</td>\n",
       "      <td>2021-11-03</td>\n",
       "      <td>Accellion FTA 9_12_370 and earlier is affected...</td>\n",
       "      <td>Apply updates per vendor instructions.</td>\n",
       "      <td>2021-11-17</td>\n",
       "      <td>NaN</td>\n",
       "      <td>1</td>\n",
       "      <td>2021-02-16</td>\n",
       "      <td>9.8</td>\n",
       "      <td>CWE-89</td>\n",
       "      <td>NETWORK</td>\n",
       "      <td>LOW</td>\n",
       "      <td>CRITICAL</td>\n",
       "    </tr>\n",
       "    <tr>\n",
       "      <th>3</th>\n",
       "      <td>CVE-2021-27103</td>\n",
       "      <td>accellion</td>\n",
       "      <td>FTA</td>\n",
       "      <td>Accellion FTA SSRF Vulnerability</td>\n",
       "      <td>2021-11-03</td>\n",
       "      <td>Accellion FTA 9_12_411 and earlier is affected...</td>\n",
       "      <td>Apply updates per vendor instructions.</td>\n",
       "      <td>2021-11-17</td>\n",
       "      <td>NaN</td>\n",
       "      <td>1</td>\n",
       "      <td>2021-02-16</td>\n",
       "      <td>9.8</td>\n",
       "      <td>CWE-918</td>\n",
       "      <td>NETWORK</td>\n",
       "      <td>LOW</td>\n",
       "      <td>CRITICAL</td>\n",
       "    </tr>\n",
       "    <tr>\n",
       "      <th>4</th>\n",
       "      <td>CVE-2021-21017</td>\n",
       "      <td>adobe</td>\n",
       "      <td>Acrobat and Reader</td>\n",
       "      <td>Adobe Acrobat and Reader Heap-based Buffer Ove...</td>\n",
       "      <td>2021-11-03</td>\n",
       "      <td>Acrobat Reader DC versions versions 2020.013.2...</td>\n",
       "      <td>Apply updates per vendor instructions.</td>\n",
       "      <td>2021-11-17</td>\n",
       "      <td>NaN</td>\n",
       "      <td>1</td>\n",
       "      <td>2021-02-11</td>\n",
       "      <td>8.8</td>\n",
       "      <td>CWE-787</td>\n",
       "      <td>NETWORK</td>\n",
       "      <td>LOW</td>\n",
       "      <td>HIGH</td>\n",
       "    </tr>\n",
       "  </tbody>\n",
       "</table>\n",
       "</div>"
      ],
      "text/plain": [
       "           cve_id vendor_project             product  \\\n",
       "0  CVE-2021-27104      accellion                 FTA   \n",
       "1  CVE-2021-27102      accellion                 FTA   \n",
       "2  CVE-2021-27101      accellion                 FTA   \n",
       "3  CVE-2021-27103      accellion                 FTA   \n",
       "4  CVE-2021-21017          adobe  Acrobat and Reader   \n",
       "\n",
       "                                  vulnerability_name  date_added  \\\n",
       "0   Accellion FTA OS Command Injection Vulnerability  2021-11-03   \n",
       "1   Accellion FTA OS Command Injection Vulnerability  2021-11-03   \n",
       "2          Accellion FTA SQL Injection Vulnerability  2021-11-03   \n",
       "3                   Accellion FTA SSRF Vulnerability  2021-11-03   \n",
       "4  Adobe Acrobat and Reader Heap-based Buffer Ove...  2021-11-03   \n",
       "\n",
       "                                   short_description  \\\n",
       "0  Accellion FTA 9_12_370 and earlier is affected...   \n",
       "1  Accellion FTA 9_12_411 and earlier is affected...   \n",
       "2  Accellion FTA 9_12_370 and earlier is affected...   \n",
       "3  Accellion FTA 9_12_411 and earlier is affected...   \n",
       "4  Acrobat Reader DC versions versions 2020.013.2...   \n",
       "\n",
       "                          required_action    due_date notes  grp    pub_date  \\\n",
       "0  Apply updates per vendor instructions.  2021-11-17   NaN    1  2021-02-16   \n",
       "1  Apply updates per vendor instructions.  2021-11-17   NaN    1  2021-02-16   \n",
       "2  Apply updates per vendor instructions.  2021-11-17   NaN    1  2021-02-16   \n",
       "3  Apply updates per vendor instructions.  2021-11-17   NaN    1  2021-02-16   \n",
       "4  Apply updates per vendor instructions.  2021-11-17   NaN    1  2021-02-11   \n",
       "\n",
       "   cvss      cwe   vector complexity  severity  \n",
       "0   9.8   CWE-78  NETWORK        LOW  CRITICAL  \n",
       "1   7.8   CWE-78    LOCAL        LOW      HIGH  \n",
       "2   9.8   CWE-89  NETWORK        LOW  CRITICAL  \n",
       "3   9.8  CWE-918  NETWORK        LOW  CRITICAL  \n",
       "4   8.8  CWE-787  NETWORK        LOW      HIGH  "
      ]
     },
     "execution_count": 30,
     "metadata": {},
     "output_type": "execute_result"
    }
   ],
   "source": [
    "combined_df.head()"
   ]
  },
  {
   "cell_type": "code",
   "execution_count": 31,
   "id": "6ac33abb-1dff-445e-94c4-333256ed1fa5",
   "metadata": {},
   "outputs": [
    {
     "data": {
      "text/plain": [
       "(3984, 16)"
      ]
     },
     "execution_count": 31,
     "metadata": {},
     "output_type": "execute_result"
    }
   ],
   "source": [
    "combined_df.shape"
   ]
  },
  {
   "cell_type": "code",
   "execution_count": 32,
   "id": "b855bf84-805d-4bd5-8ec3-9c612c19bdfb",
   "metadata": {},
   "outputs": [],
   "source": [
    "combined_df = combined_df.dropna(subset=['short_description', 'severity'])\n",
    "\n",
    "X = combined_df['short_description']\n",
    "y = combined_df['severity']"
   ]
  },
  {
   "cell_type": "code",
   "execution_count": 33,
   "id": "dc0e4fe5-8ea4-4404-a358-23be0632f4e1",
   "metadata": {},
   "outputs": [],
   "source": [
    "X_train, X_test, y_train, y_test = train_test_split(X, y, random_state=42, test_size=0.2)"
   ]
  },
  {
   "cell_type": "code",
   "execution_count": 34,
   "id": "45f02ec8-8e24-4ab3-b33a-f788ff27a15a",
   "metadata": {},
   "outputs": [],
   "source": [
    "vectorizer = TfidfVectorizer()\n",
    "X_train_vectorized = vectorizer.fit_transform(X_train)\n",
    "X_test_vectorized = vectorizer.transform(X_test)\n"
   ]
  },
  {
   "cell_type": "code",
   "execution_count": null,
   "id": "3a1353c6-9d26-4bed-b5af-1999cf280739",
   "metadata": {},
   "outputs": [],
   "source": []
  },
  {
   "cell_type": "code",
   "execution_count": null,
   "id": "1fb5e7b2-9ffd-4e0e-b315-e9d1c864b30c",
   "metadata": {},
   "outputs": [],
   "source": []
  },
  {
   "cell_type": "code",
   "execution_count": null,
   "id": "8ea07a5c-69d8-47e1-aae9-bdcfd5783980",
   "metadata": {},
   "outputs": [],
   "source": []
  },
  {
   "cell_type": "code",
   "execution_count": null,
   "id": "534adb09-ee11-48c6-afb9-9bd21dd8ddf2",
   "metadata": {},
   "outputs": [],
   "source": []
  },
  {
   "cell_type": "code",
   "execution_count": 35,
   "id": "769e75d9-2d54-46a7-b9b6-2149a92702c8",
   "metadata": {},
   "outputs": [],
   "source": [
    "# Hyperparameter tuning using GridSearchCV\n",
    "param_grid = {'alpha': [0.0005, 0.1, 0.5, 1.0]}\n",
    "nb_classifier = MultinomialNB()\n",
    "grid_search = GridSearchCV(nb_classifier, param_grid, cv=3)\n",
    "grid_search.fit(X_train_vectorized, y_train)\n",
    "\n",
    "# Get the best alpha value from the grid search\n",
    "best_alpha = grid_search.best_params_['alpha']\n",
    "\n",
    "# Retrain the model on the entire training set with the best hyperparameters\n",
    "final_nb_classifier = MultinomialNB(alpha=best_alpha)\n",
    "final_nb_classifier.fit(X_train_vectorized, y_train)\n",
    "\n",
    "# Use the final model for predictions on the test set\n",
    "y_pred = final_nb_classifier.predict(X_test_vectorized)"
   ]
  },
  {
   "cell_type": "code",
   "execution_count": 36,
   "id": "078ea7cc-88f5-4df4-9701-20d9e46d3210",
   "metadata": {},
   "outputs": [
    {
     "name": "stdout",
     "output_type": "stream",
     "text": [
      "Accuracy: 0.9736\n",
      "\n",
      "Confusion Matrix:\n",
      "          CRITICAL  HIGH  LOW  MEDIUM\n",
      "CRITICAL       175     5    0       0\n",
      "HIGH             4   268    0       2\n",
      "LOW              0     0    1       0\n",
      "MEDIUM           0     2    0      35\n",
      "\n",
      "Classification Report:\n",
      "              precision    recall  f1-score   support\n",
      "\n",
      "    CRITICAL       0.98      0.97      0.97       180\n",
      "        HIGH       0.97      0.98      0.98       274\n",
      "         LOW       1.00      1.00      1.00         1\n",
      "      MEDIUM       0.95      0.95      0.95        37\n",
      "\n",
      "    accuracy                           0.97       492\n",
      "   macro avg       0.97      0.97      0.97       492\n",
      "weighted avg       0.97      0.97      0.97       492\n",
      "\n"
     ]
    }
   ],
   "source": [
    "# Evaluate the final model\n",
    "accuracy = accuracy_score(y_test, y_pred)\n",
    "confusion_mat = confusion_matrix(y_test, y_pred)\n",
    "classification_rep = classification_report(y_test, y_pred)\n",
    "\n",
    "# Print the formatted evaluation metrics\n",
    "print(f\"Accuracy: {accuracy:.4f}\\n\")\n",
    "\n",
    "print(\"Confusion Matrix:\")\n",
    "confusion_df = pd.DataFrame(confusion_mat, index=['CRITICAL', 'HIGH', 'LOW', 'MEDIUM'], columns=['CRITICAL', 'HIGH', 'LOW', 'MEDIUM'])\n",
    "print(confusion_df.to_string())\n",
    "\n",
    "print(\"\\nClassification Report:\")\n",
    "print(classification_rep)"
   ]
  },
  {
   "cell_type": "code",
   "execution_count": 37,
   "id": "d01d0257-2de8-406a-a39f-740aa7ca2752",
   "metadata": {},
   "outputs": [],
   "source": [
    "# Hyperparameter tuning using GridSearchCV\n",
    "param_grid = {'C': [0.001, 0.01, 0.1, 1.0]}\n",
    "lg_classifier = LogisticRegression()\n",
    "grid_search = GridSearchCV(lg_classifier, param_grid, cv=3)\n",
    "grid_search.fit(X_train_vectorized, y_train)\n",
    "\n",
    "# Get the best alpha value from the grid search\n",
    "best_c = grid_search.best_params_['C']\n",
    "\n",
    "# Retrain the model on the entire training set with the best hyperparameters\n",
    "final_lg_classifier = LogisticRegression(C=best_c)\n",
    "final_lg_classifier.fit(X_train_vectorized, y_train)\n",
    "\n",
    "# Use the final model for predictions on the test set\n",
    "y_pred = final_lg_classifier.predict(X_test_vectorized)"
   ]
  },
  {
   "cell_type": "code",
   "execution_count": 38,
   "id": "0441ab48-5045-4abe-bb3c-ee3d5ce08a38",
   "metadata": {},
   "outputs": [
    {
     "name": "stdout",
     "output_type": "stream",
     "text": [
      "Accuracy: 0.9573\n",
      "\n",
      "Confusion Matrix:\n",
      "          CRITICAL  HIGH  LOW  MEDIUM\n",
      "CRITICAL       174     6    0       0\n",
      "HIGH             4   270    0       0\n",
      "LOW              0     0    0       1\n",
      "MEDIUM           2     8    0      27\n",
      "\n",
      "Classification Report:\n",
      "              precision    recall  f1-score   support\n",
      "\n",
      "    CRITICAL       0.97      0.97      0.97       180\n",
      "        HIGH       0.95      0.99      0.97       274\n",
      "         LOW        nan      0.00      0.00         1\n",
      "      MEDIUM       0.96      0.73      0.83        37\n",
      "\n",
      "    accuracy                           0.96       492\n",
      "   macro avg       0.96      0.67      0.69       492\n",
      "weighted avg       0.96      0.96      0.96       492\n",
      "\n"
     ]
    }
   ],
   "source": [
    "# Evaluate the final model\n",
    "accuracy = accuracy_score(y_test, y_pred)\n",
    "confusion_mat = confusion_matrix(y_test, y_pred)\n",
    "classification_rep = classification_report(y_test, y_pred,  zero_division = np.nan)\n",
    "\n",
    "# Print the formatted evaluation metrics\n",
    "print(f\"Accuracy: {accuracy:.4f}\\n\")\n",
    "\n",
    "print(\"Confusion Matrix:\")\n",
    "confusion_df = pd.DataFrame(confusion_mat, index=['CRITICAL', 'HIGH', 'LOW', 'MEDIUM'], columns=['CRITICAL', 'HIGH', 'LOW', 'MEDIUM'], )\n",
    "print(confusion_df.to_string())\n",
    "\n",
    "print(\"\\nClassification Report:\")\n",
    "print(classification_rep)"
   ]
  },
  {
   "cell_type": "code",
   "execution_count": 39,
   "id": "0d1439e7-2eeb-4c85-b3ba-22fcd4c80602",
   "metadata": {},
   "outputs": [],
   "source": [
    "# Hyperparameter tuning using GridSearchCV\n",
    "param_grid = {'n_estimators': [50, 100, 200]}\n",
    "rf_classifier = RandomForestClassifier()\n",
    "grid_search = GridSearchCV(rf_classifier, param_grid, cv=3)\n",
    "grid_search.fit(X_train_vectorized, y_train)\n",
    "\n",
    "# Get the best alpha value from the grid search\n",
    "best_n_est = grid_search.best_params_['n_estimators']\n",
    "\n",
    "# Retrain the model on the entire training set with the best hyperparameters\n",
    "final_rf_classifier = RandomForestClassifier(n_estimators=best_n_est)\n",
    "final_rf_classifier.fit(X_train_vectorized, y_train)\n",
    "\n",
    "# Use the final model for predictions on the test set\n",
    "y_pred = final_rf_classifier.predict(X_test_vectorized)"
   ]
  },
  {
   "cell_type": "code",
   "execution_count": 40,
   "id": "e41e3454-57a8-4151-b03d-76a29cdeaba3",
   "metadata": {},
   "outputs": [
    {
     "name": "stdout",
     "output_type": "stream",
     "text": [
      "Accuracy: 0.9959\n",
      "\n",
      "Confusion Matrix:\n",
      "          CRITICAL  HIGH  LOW  MEDIUM\n",
      "CRITICAL       180     0    0       0\n",
      "HIGH             2   272    0       0\n",
      "LOW              0     0    1       0\n",
      "MEDIUM           0     0    0      37\n",
      "\n",
      "Classification Report:\n",
      "              precision    recall  f1-score   support\n",
      "\n",
      "    CRITICAL       0.99      1.00      0.99       180\n",
      "        HIGH       1.00      0.99      1.00       274\n",
      "         LOW       1.00      1.00      1.00         1\n",
      "      MEDIUM       1.00      1.00      1.00        37\n",
      "\n",
      "    accuracy                           1.00       492\n",
      "   macro avg       1.00      1.00      1.00       492\n",
      "weighted avg       1.00      1.00      1.00       492\n",
      "\n"
     ]
    }
   ],
   "source": [
    "# Evaluate the final model\n",
    "accuracy = accuracy_score(y_test, y_pred)\n",
    "confusion_mat = confusion_matrix(y_test, y_pred)\n",
    "classification_rep = classification_report(y_test, y_pred,  zero_division = np.nan)\n",
    "\n",
    "# Print the formatted evaluation metrics\n",
    "print(f\"Accuracy: {accuracy:.4f}\\n\")\n",
    "\n",
    "print(\"Confusion Matrix:\")\n",
    "confusion_df = pd.DataFrame(confusion_mat, index=['CRITICAL', 'HIGH', 'LOW', 'MEDIUM'], columns=['CRITICAL', 'HIGH', 'LOW', 'MEDIUM'], )\n",
    "print(confusion_df.to_string())\n",
    "\n",
    "print(\"\\nClassification Report:\")\n",
    "print(classification_rep)"
   ]
  },
  {
   "cell_type": "code",
   "execution_count": 41,
   "id": "eadc953d-b906-4d0f-9120-cd8b37199fb9",
   "metadata": {},
   "outputs": [],
   "source": [
    "# Hyperparameter tuning using GridSearchCV\n",
    "param_grid = {'C': [0.1, 1.0, 10.0], 'gamma': ['scale', 'auto']}\n",
    "svc_classifier = SVC()\n",
    "grid_search = GridSearchCV(svc_classifier, param_grid, cv=3)\n",
    "grid_search.fit(X_train_vectorized, y_train)\n",
    "\n",
    "# Get the best alpha value from the grid search\n",
    "best_c = grid_search.best_params_['C']\n",
    "best_gamma = grid_search.best_params_['gamma']\n",
    "\n",
    "\n",
    "# Retrain the model on the entire training set with the best hyperparameters\n",
    "final_svc_classifier = SVC(C=best_c , gamma=best_gamma)\n",
    "final_svc_classifier.fit(X_train_vectorized, y_train)\n",
    "\n",
    "# Use the final model for predictions on the test set\n",
    "y_pred = final_svc_classifier.predict(X_test_vectorized)"
   ]
  },
  {
   "cell_type": "code",
   "execution_count": 42,
   "id": "328c70e2-0744-4b61-92d0-78a21942dd2b",
   "metadata": {},
   "outputs": [
    {
     "name": "stdout",
     "output_type": "stream",
     "text": [
      "Accuracy: 0.9939\n",
      "\n",
      "Confusion Matrix:\n",
      "          CRITICAL  HIGH  LOW  MEDIUM\n",
      "CRITICAL       180     0    0       0\n",
      "HIGH             3   271    0       0\n",
      "LOW              0     0    1       0\n",
      "MEDIUM           0     0    0      37\n",
      "\n",
      "Classification Report:\n",
      "              precision    recall  f1-score   support\n",
      "\n",
      "    CRITICAL       0.98      1.00      0.99       180\n",
      "        HIGH       1.00      0.99      0.99       274\n",
      "         LOW       1.00      1.00      1.00         1\n",
      "      MEDIUM       1.00      1.00      1.00        37\n",
      "\n",
      "    accuracy                           0.99       492\n",
      "   macro avg       1.00      1.00      1.00       492\n",
      "weighted avg       0.99      0.99      0.99       492\n",
      "\n"
     ]
    }
   ],
   "source": [
    "# Evaluate the final model\n",
    "accuracy = accuracy_score(y_test, y_pred)\n",
    "confusion_mat = confusion_matrix(y_test, y_pred)\n",
    "classification_rep = classification_report(y_test, y_pred,  zero_division = np.nan)\n",
    "\n",
    "# Print the formatted evaluation metrics\n",
    "print(f\"Accuracy: {accuracy:.4f}\\n\")\n",
    "\n",
    "print(\"Confusion Matrix:\")\n",
    "confusion_df = pd.DataFrame(confusion_mat, index=['CRITICAL', 'HIGH', 'LOW', 'MEDIUM'], columns=['CRITICAL', 'HIGH', 'LOW', 'MEDIUM'], )\n",
    "print(confusion_df.to_string())\n",
    "\n",
    "print(\"\\nClassification Report:\")\n",
    "print(classification_rep)"
   ]
  },
  {
   "cell_type": "code",
   "execution_count": 43,
   "id": "7970da0d-fc17-4090-bb08-8fc23e5539f1",
   "metadata": {},
   "outputs": [],
   "source": [
    "# Hyperparameter tuning using GridSearchCV\n",
    "param_grid = {'n_estimators': [50, 100, 200], 'learning_rate': [0.01, 0.1, 0.5]}\n",
    "gb_classifier = GradientBoostingClassifier()\n",
    "grid_search = GridSearchCV(gb_classifier, param_grid, cv=3)\n",
    "grid_search.fit(X_train_vectorized, y_train)\n",
    "\n",
    "# Get the best alpha value from the grid search\n",
    "best_n_est = grid_search.best_params_['n_estimators']\n",
    "best_lr = grid_search.best_params_['learning_rate']\n",
    "\n",
    "\n",
    "# Retrain the model on the entire training set with the best hyperparameters\n",
    "final_gb_classifier = GradientBoostingClassifier(n_estimators=best_n_est, learning_rate=best_lr)\n",
    "final_gb_classifier.fit(X_train_vectorized, y_train)\n",
    "\n",
    "# Use the final model for predictions on the test set\n",
    "y_pred = final_gb_classifier.predict(X_test_vectorized)"
   ]
  },
  {
   "cell_type": "code",
   "execution_count": 44,
   "id": "54601e41-a097-44b7-ab89-182d3cf60c18",
   "metadata": {},
   "outputs": [
    {
     "name": "stdout",
     "output_type": "stream",
     "text": [
      "Accuracy: 0.9959\n",
      "\n",
      "Confusion Matrix:\n",
      "          CRITICAL  HIGH  LOW  MEDIUM\n",
      "CRITICAL       180     0    0       0\n",
      "HIGH             2   272    0       0\n",
      "LOW              0     0    1       0\n",
      "MEDIUM           0     0    0      37\n",
      "\n",
      "Classification Report:\n",
      "              precision    recall  f1-score   support\n",
      "\n",
      "    CRITICAL       0.99      1.00      0.99       180\n",
      "        HIGH       1.00      0.99      1.00       274\n",
      "         LOW       1.00      1.00      1.00         1\n",
      "      MEDIUM       1.00      1.00      1.00        37\n",
      "\n",
      "    accuracy                           1.00       492\n",
      "   macro avg       1.00      1.00      1.00       492\n",
      "weighted avg       1.00      1.00      1.00       492\n",
      "\n"
     ]
    }
   ],
   "source": [
    "# Evaluate the final model\n",
    "accuracy = accuracy_score(y_test, y_pred)\n",
    "confusion_mat = confusion_matrix(y_test, y_pred)\n",
    "classification_rep = classification_report(y_test, y_pred,  zero_division = np.nan)\n",
    "\n",
    "# Print the formatted evaluation metrics\n",
    "print(f\"Accuracy: {accuracy:.4f}\\n\")\n",
    "\n",
    "print(\"Confusion Matrix:\")\n",
    "confusion_df = pd.DataFrame(confusion_mat, index=['CRITICAL', 'HIGH', 'LOW', 'MEDIUM'], columns=['CRITICAL', 'HIGH', 'LOW', 'MEDIUM'], )\n",
    "print(confusion_df.to_string())\n",
    "\n",
    "print(\"\\nClassification Report:\")\n",
    "print(classification_rep)"
   ]
  },
  {
   "cell_type": "code",
   "execution_count": 45,
   "id": "797096c2-b941-4ee8-bd14-f0d473f4a5ca",
   "metadata": {},
   "outputs": [
    {
     "data": {
      "image/png": "[encoded data removed]",
      "text/plain": [
       "<Figure size 800x600 with 1 Axes>"
      ]
     },
     "metadata": {},
     "output_type": "display_data"
    }
   ],
   "source": [
    "\n",
    "plt.figure(figsize=(8, 6))\n",
    "combined_df['severity'].value_counts().plot(kind='bar', color='pink')\n",
    "plt.title('Distribution of Severity Levels')\n",
    "plt.xlabel('Severity Level')\n",
    "plt.ylabel('Count')\n",
    "plt.show()\n"
   ]
  },
  {
   "cell_type": "code",
   "execution_count": 46,
   "id": "d9d9b54c-c4c8-4527-a1fb-47bd84c2fab0",
   "metadata": {},
   "outputs": [
    {
     "data": {
      "image/png": "[encoded data removed]",
      "text/plain": [
       "<Figure size 640x480 with 2 Axes>"
      ]
     },
     "metadata": {},
     "output_type": "display_data"
    }
   ],
   "source": [
    "import seaborn as sns\n",
    "\n",
    "sns.heatmap(confusion_mat, annot=True, fmt='d', cmap='YlGnBu', \n",
    "            xticklabels=['CRITICAL', 'HIGH', 'LOW', 'MEDIUM'], \n",
    "            yticklabels=['CRITICAL', 'HIGH', 'LOW','MEDIUM'])\n",
    "plt.ylabel('Actual')\n",
    "plt.xlabel('Predicted')\n",
    "plt.title('Confusion Matrix')\n",
    "plt.show()"
   ]
  },
  {
   "cell_type": "code",
   "execution_count": null,
   "id": "73b6de2a-ce4e-4ceb-b897-d63e3f61290a",
   "metadata": {},
   "outputs": [],
   "source": []
  },
  {
   "cell_type": "code",
   "execution_count": 47,
   "id": "c63a645a-562c-46ea-8135-6564c672409a",
   "metadata": {},
   "outputs": [
    {
     "name": "stderr",
     "output_type": "stream",
     "text": [
      "/var/folders/nn/l8j1s99100s_wc7w5ghth_z00000gn/T/ipykernel_2889/1459319671.py:8: FutureWarning: \n",
      "\n",
      "Passing `palette` without assigning `hue` is deprecated and will be removed in v0.14.0. Assign the `x` variable to `hue` and set `legend=False` for the same effect.\n",
      "\n",
      "  sns.countplot(x='severity', data=combined_df, palette='Set2')\n"
     ]
    },
    {
     "data": {
      "image/png": "[encoded data removed]",
      "text/plain": [
       "<Figure size 1000x600 with 1 Axes>"
      ]
     },
     "metadata": {},
     "output_type": "display_data"
    }
   ],
   "source": [
    "# Distribution Prior to Classification\n",
    "\n",
    "# Setting the style\n",
    "sns.set(style=\"whitegrid\")\n",
    "\n",
    "# Creating the histogram\n",
    "plt.figure(figsize=(10, 6))\n",
    "sns.countplot(x='severity', data=combined_df, palette='Set2')\n",
    "\n",
    "# Adding titles and labels\n",
    "plt.title('Distribution of Severity Levels')\n",
    "plt.xlabel('Severity Level')\n",
    "plt.ylabel('Count')\n",
    "\n",
    "# Display the plot\n",
    "plt.show()"
   ]
  },
  {
   "cell_type": "code",
   "execution_count": null,
   "id": "9c024288-a915-42d4-b513-d9cd3ac402ac",
   "metadata": {},
   "outputs": [],
   "source": []
  },
  {
   "cell_type": "code",
   "execution_count": null,
   "id": "295b9b46-11f6-4b89-8b6e-f01d7c390c6b",
   "metadata": {},
   "outputs": [],
   "source": []
  },
  {
   "cell_type": "code",
   "execution_count": 48,
   "id": "d51053a2-ec08-434c-a901-84fa2d34df45",
   "metadata": {},
   "outputs": [],
   "source": [
    "\n",
    "from sklearn.metrics import (\n",
    "    accuracy_score, precision_score, recall_score, f1_score,\n",
    "    classification_report, confusion_matrix, ConfusionMatrixDisplay\n",
    ")\n",
    "\n",
    "def evaluate_models(models, model_names, X_test, y_test, average='weighted', class_labels=None):\n",
    "    results = []\n",
    "\n",
    "    for model, name in zip(models, model_names):\n",
    "        y_pred = model.predict(X_test)\n",
    "\n",
    "        accuracy = accuracy_score(y_test, y_pred)\n",
    "        precision = precision_score(y_test, y_pred, average=average, zero_division=0)\n",
    "        recall = recall_score(y_test, y_pred, average=average, zero_division=0)\n",
    "        f1 = f1_score(y_test, y_pred, average=average, zero_division=0)\n",
    "\n",
    "        results.append({\n",
    "            'Model': name,\n",
    "            'Accuracy': accuracy,\n",
    "            'Precision': precision,\n",
    "            'Recall': recall,\n",
    "            'F1-Score': f1\n",
    "        })\n",
    "\n",
    "        '''# Show confusion matrix\n",
    "        cm = confusion_matrix(y_test, y_pred, labels=class_labels)\n",
    "        disp = ConfusionMatrixDisplay(confusion_matrix=cm, display_labels=class_labels)\n",
    "        disp.plot(cmap='Blues')\n",
    "        plt.title(f'Confusion Matrix - {name}')\n",
    "        plt.grid(False)\n",
    "        plt.show()'''\n",
    "\n",
    "    # Create DataFrame\n",
    "    df_results = pd.DataFrame(results)\n",
    "\n",
    "    # Plot grouped bar chart\n",
    "    df_results.set_index('Model')[['Accuracy', 'Precision', 'Recall', 'F1-Score']].plot(\n",
    "        kind='bar', figsize=(12, 6), colormap='viridis')\n",
    "\n",
    "    plt.title('Model Performance Comparison')\n",
    "    plt.ylabel('Score')\n",
    "    plt.ylim(0.5, 1.0)\n",
    "    plt.grid(axis='y')\n",
    "    plt.xticks(rotation=45)\n",
    "    plt.legend(loc='lower right')\n",
    "    plt.tight_layout()\n",
    "    plt.show()\n",
    "\n",
    "    return df_results"
   ]
  },
  {
   "cell_type": "code",
   "execution_count": 49,
   "id": "c419bd8b-81bf-4448-b604-0e6851a60c2b",
   "metadata": {},
   "outputs": [
    {
     "data": {
      "image/png": "[encoded data removed]",
      "text/plain": [
       "<Figure size 1200x600 with 1 Axes>"
      ]
     },
     "metadata": {},
     "output_type": "display_data"
    },
    {
     "data": {
      "text/html": [
       "<div>\n",
       "<style scoped>\n",
       "    .dataframe tbody tr th:only-of-type {\n",
       "        vertical-align: middle;\n",
       "    }\n",
       "\n",
       "    .dataframe tbody tr th {\n",
       "        vertical-align: top;\n",
       "    }\n",
       "\n",
       "    .dataframe thead th {\n",
       "        text-align: right;\n",
       "    }\n",
       "</style>\n",
       "<table border=\"1\" class=\"dataframe\">\n",
       "  <thead>\n",
       "    <tr style=\"text-align: right;\">\n",
       "      <th></th>\n",
       "      <th>Model</th>\n",
       "      <th>Accuracy</th>\n",
       "      <th>Precision</th>\n",
       "      <th>Recall</th>\n",
       "      <th>F1-Score</th>\n",
       "    </tr>\n",
       "  </thead>\n",
       "  <tbody>\n",
       "    <tr>\n",
       "      <th>0</th>\n",
       "      <td>Multinomial NB</td>\n",
       "      <td>0.973577</td>\n",
       "      <td>0.973584</td>\n",
       "      <td>0.973577</td>\n",
       "      <td>0.973576</td>\n",
       "    </tr>\n",
       "    <tr>\n",
       "      <th>1</th>\n",
       "      <td>Logistic Regression</td>\n",
       "      <td>0.957317</td>\n",
       "      <td>0.955633</td>\n",
       "      <td>0.957317</td>\n",
       "      <td>0.955081</td>\n",
       "    </tr>\n",
       "    <tr>\n",
       "      <th>2</th>\n",
       "      <td>Random Forest</td>\n",
       "      <td>0.995935</td>\n",
       "      <td>0.995980</td>\n",
       "      <td>0.995935</td>\n",
       "      <td>0.995939</td>\n",
       "    </tr>\n",
       "    <tr>\n",
       "      <th>3</th>\n",
       "      <td>SVC</td>\n",
       "      <td>0.993902</td>\n",
       "      <td>0.994002</td>\n",
       "      <td>0.993902</td>\n",
       "      <td>0.993911</td>\n",
       "    </tr>\n",
       "    <tr>\n",
       "      <th>4</th>\n",
       "      <td>Gradient Boosting</td>\n",
       "      <td>0.995935</td>\n",
       "      <td>0.995980</td>\n",
       "      <td>0.995935</td>\n",
       "      <td>0.995939</td>\n",
       "    </tr>\n",
       "  </tbody>\n",
       "</table>\n",
       "</div>"
      ],
      "text/plain": [
       "                 Model  Accuracy  Precision    Recall  F1-Score\n",
       "0       Multinomial NB  0.973577   0.973584  0.973577  0.973576\n",
       "1  Logistic Regression  0.957317   0.955633  0.957317  0.955081\n",
       "2        Random Forest  0.995935   0.995980  0.995935  0.995939\n",
       "3                  SVC  0.993902   0.994002  0.993902  0.993911\n",
       "4    Gradient Boosting  0.995935   0.995980  0.995935  0.995939"
      ]
     },
     "execution_count": 49,
     "metadata": {},
     "output_type": "execute_result"
    }
   ],
   "source": [
    "# List of trained models\n",
    "models = [final_nb_classifier, final_lg_classifier, final_rf_classifier, final_svc_classifier, final_gb_classifier]\n",
    "model_names = ['Multinomial NB', 'Logistic Regression', 'Random Forest', 'SVC', 'Gradient Boosting']\n",
    "\n",
    "# Assuming your test data is vectorized already\n",
    "evaluate_models(models, model_names, X_test_vectorized, y_test, class_labels=['CRITICAL', 'HIGH', 'LOW', 'MEDIUM'])"
   ]
  },
  {
   "cell_type": "code",
   "execution_count": null,
   "id": "c1906a6b-646e-4b9e-8f28-737b3d3db416",
   "metadata": {},
   "outputs": [],
   "source": []
  },
  {
   "cell_type": "code",
   "execution_count": 50,
   "id": "6f54e966-fd70-4d0f-9997-376e0e92b861",
   "metadata": {},
   "outputs": [
    {
     "name": "stdout",
     "output_type": "stream",
     "text": [
      "🔍 Multinomial NB: F1 Score = 0.9736\n",
      "🔍 Logistic Regression: F1 Score = 0.9551\n",
      "🔍 Random Forest: F1 Score = 0.9959\n",
      "🔍 SVC: F1 Score = 0.9939\n",
      "🔍 Gradient Boosting: F1 Score = 0.9959\n",
      "\n",
      "✅ Best Model: Random Forest (F1 Score = 0.9959)\n",
      "✅ Model and vectorizer saved to 'models/' folder.\n",
      "📄 All model scores saved to 'model_scores.csv'.\n"
     ]
    }
   ],
   "source": [
    "import os\n",
    "import joblib\n",
    "from sklearn.metrics import f1_score\n",
    "\n",
    "# Step 1: Define models and names\n",
    "models = [final_nb_classifier, final_lg_classifier, final_rf_classifier, final_svc_classifier, final_gb_classifier]\n",
    "model_names = ['Multinomial NB', 'Logistic Regression', 'Random Forest', 'SVC', 'Gradient Boosting']\n",
    "\n",
    "# Step 2: Evaluate each model\n",
    "model_scores = []\n",
    "\n",
    "for model, name in zip(models, model_names):\n",
    "    y_pred = model.predict(X_test_vectorized)\n",
    "    f1 = f1_score(y_test, y_pred, average='weighted')\n",
    "    model_scores.append((name, model, f1))\n",
    "    print(f\"🔍 {name}: F1 Score = {f1:.4f}\")\n",
    "\n",
    "# Step 3: Select best model\n",
    "best_model_name, best_model, best_f1 = max(model_scores, key=lambda x: x[2])\n",
    "print(f\"\\n✅ Best Model: {best_model_name} (F1 Score = {best_f1:.4f})\")\n",
    "\n",
    "# Create folder\n",
    "os.makedirs('models', exist_ok=True)\n",
    "\n",
    "# Step 4: Save best model and vectorizer\n",
    "joblib.dump(best_model, 'models/best_model.pkl')\n",
    "joblib.dump(vectorizer, 'models/tfidf.pkl')\n",
    "print(\"✅ Model and vectorizer saved to 'models/' folder.\")\n",
    "\n",
    "# Optional: Save model scores to CSV\n",
    "df_scores = pd.DataFrame([\n",
    "    {'Model': name, 'F1 Score': score}\n",
    "    for name, _, score in model_scores\n",
    "])\n",
    "df_scores.to_csv('model_scores.csv', index=False)\n",
    "print(\"📄 All model scores saved to 'model_scores.csv'.\")"
   ]
  },
  {
   "cell_type": "code",
   "execution_count": null,
   "id": "1bf59e12-7dff-4164-9569-337a7c1c72ed",
   "metadata": {},
   "outputs": [],
   "source": []
  }
 ],
 "metadata": {
  "kernelspec": {
   "display_name": "Python 3",
   "language": "python",
   "name": "python3"
  },
  "language_info": {
   "codemirror_mode": {
    "name": "ipython",
    "version": 3
   },
   "file_extension": ".py",
   "mimetype": "text/x-python",
   "name": "python",
   "nbconvert_exporter": "python",
   "pygments_lexer": "ipython3",
   "version": "3.12.6"
  }
 },
 "nbformat": 4,
 "nbformat_minor": 5
}
