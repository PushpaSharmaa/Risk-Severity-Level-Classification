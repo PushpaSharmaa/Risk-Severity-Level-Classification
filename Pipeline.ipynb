{
 "cells": [
  {
   "cell_type": "code",
   "execution_count": 8,
   "id": "9f34f465-9407-4492-a611-3bf41e237a32",
   "metadata": {},
   "outputs": [],
   "source": [
    "# pipeline/predict.py\n",
    "\n",
    "import joblib\n",
    "import re\n",
    "\n",
    "class SeverityPredictor:\n",
    "    def __init__(self, model_path='models/best_model.pkl', vectorizer_path='models/tfidf.pkl'):\n",
    "        self.model = joblib.load(model_path)\n",
    "        self.vectorizer = joblib.load(vectorizer_path)\n",
    "    \n",
    "    def preprocess(self, text):\n",
    "        text = text.lower()\n",
    "        text = re.sub(r'[^\\w\\s]', '', text)\n",
    "        return text.strip()\n",
    "    \n",
    "    def predict(self, summary_text):\n",
    "        cleaned = self.preprocess(summary_text)\n",
    "        vectorized = self.vectorizer.transform([cleaned])\n",
    "        return self.model.predict(vectorized)[0]"
   ]
  },
  {
   "cell_type": "code",
   "execution_count": 25,
   "id": "0d3f5792-4b4d-480b-92c0-ab04c7bc96dd",
   "metadata": {},
   "outputs": [
    {
     "name": "stdout",
     "output_type": "stream",
     "text": [
      "MEDIUM\n"
     ]
    }
   ],
   "source": [
    "predictor = SeverityPredictor()\n",
    "print(predictor.predict(\"The social-warfare plugin before 3.5.3 for WordPress has stored XSS via the wp-admin/admin-post.php?swp_debug=load_options swp_url parameter, as exploited in the wild in March 2019. This affects Social Warfare and Social Warfare Pro.\"))"
   ]
  },
  {
   "cell_type": "code",
   "execution_count": null,
   "id": "55335cee-cad6-47e6-85ca-a3c0d54b3b92",
   "metadata": {},
   "outputs": [],
   "source": []
  },
  {
   "cell_type": "code",
   "execution_count": null,
   "id": "49203ce9-dd11-47cb-a0f7-47ccbf85b983",
   "metadata": {},
   "outputs": [],
   "source": []
  },
  {
   "cell_type": "code",
   "execution_count": null,
   "id": "4959111a-a331-46d3-a082-8914ed5ddc96",
   "metadata": {},
   "outputs": [],
   "source": []
  }
 ],
 "metadata": {
  "kernelspec": {
   "display_name": "Python 3 (ipykernel)",
   "language": "python",
   "name": "python3"
  },
  "language_info": {
   "codemirror_mode": {
    "name": "ipython",
    "version": 3
   },
   "file_extension": ".py",
   "mimetype": "text/x-python",
   "name": "python",
   "nbconvert_exporter": "python",
   "pygments_lexer": "ipython3",
   "version": "3.12.2"
  }
 },
 "nbformat": 4,
 "nbformat_minor": 5
}
