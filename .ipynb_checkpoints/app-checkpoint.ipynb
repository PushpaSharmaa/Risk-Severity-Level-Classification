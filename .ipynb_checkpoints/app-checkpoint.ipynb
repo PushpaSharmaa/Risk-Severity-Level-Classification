{
 "cells": [
  {
   "cell_type": "code",
   "execution_count": 1,
   "id": "54b33124-e917-44bc-b747-3766b2f0ee57",
   "metadata": {},
   "outputs": [
    {
     "name": "stderr",
     "output_type": "stream",
     "text": [
      "2025-07-08 22:37:14.307 \n",
      "  \u001b[33m\u001b[1mWarning:\u001b[0m to view this Streamlit app on a browser, run it with the following\n",
      "  command:\n",
      "\n",
      "    streamlit run /opt/anaconda3/lib/python3.12/site-packages/ipykernel_launcher.py [ARGUMENTS]\n"
     ]
    }
   ],
   "source": [
    "import streamlit as st\n",
    "import joblib\n",
    "import os\n",
    "\n",
    "# Load model and vectorizer\n",
    "model_path = \"models/best_model.pkl\"\n",
    "vectorizer_path = \"models/tfidf.pkl\"\n",
    "\n",
    "# Check if model and vectorizer exist\n",
    "if not os.path.exists(model_path) or not os.path.exists(vectorizer_path):\n",
    "    st.error(\"Model or vectorizer file is missing.\")\n",
    "else:\n",
    "    model = joblib.load(model_path)\n",
    "    tfidf_vectorizer = joblib.load(vectorizer_path)\n",
    "\n",
    "    # Streamlit UI\n",
    "    st.title(\"Text Classification App\")\n",
    "    st.write(\"Enter some text below to classify it.\")\n",
    "\n",
    "    user_input = st.text_area(\"Text input\", height=200)\n",
    "\n",
    "    if st.button(\"Predict\"):\n",
    "        if user_input.strip() == \"\":\n",
    "            st.warning(\"Please enter some text.\")\n",
    "        else:\n",
    "            # Transform user input using loaded TF-IDF vectorizer\n",
    "            input_vector = tfidf_vectorizer.transform([user_input])\n",
    "\n",
    "            # Predict using loaded model\n",
    "            prediction = model.predict(input_vector)[0]\n",
    "\n",
    "            st.success(f\"Prediction: **{prediction}**\")"
   ]
  },
  {
   "cell_type": "code",
   "execution_count": null,
   "id": "06c988e5-31d1-4cbd-9d32-5a1df0702805",
   "metadata": {},
   "outputs": [],
   "source": []
  }
 ],
 "metadata": {
  "kernelspec": {
   "display_name": "Python 3 (ipykernel)",
   "language": "python",
   "name": "python3"
  },
  "language_info": {
   "codemirror_mode": {
    "name": "ipython",
    "version": 3
   },
   "file_extension": ".py",
   "mimetype": "text/x-python",
   "name": "python",
   "nbconvert_exporter": "python",
   "pygments_lexer": "ipython3",
   "version": "3.12.4"
  }
 },
 "nbformat": 4,
 "nbformat_minor": 5
}
